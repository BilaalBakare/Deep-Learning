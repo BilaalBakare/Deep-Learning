{
 "cells": [
  {
   "metadata": {},
   "cell_type": "markdown",
   "source": "Replicating the is-it-a-bird script",
   "id": "f2b6eec32afa5ed5"
  },
  {
   "metadata": {},
   "cell_type": "code",
   "source": [
    "# library imports\n",
    "\n",
    "import requests\n",
    "from duckduckgo_search import DDGS # for searching\n",
    "from fastai.vision.data import ImageDataLoaders\n",
    "from fastcore.all import * #\n",
    "from fastdownload import download_url # for downloading items from the internet\n",
    "from fastai.vision.all import * # I use image.open to view downloaded images\n",
    "from requests import request\n",
    "from PIL import Image\n",
    "import numpy\n",
    "import matplotlib.pyplot as plot\n",
    "import pickle\n"
   ],
   "id": "d6b7fa35d985b9b1",
   "outputs": [],
   "execution_count": null
  },
  {
   "metadata": {},
   "cell_type": "code",
   "source": [
    "path = 'data'\n",
    "\n",
    "def is_airplane(given_data: str):\n",
    "    return True if given_data[:3] == 'Air' else False\n",
    "\n",
    "dataloader = ImageDataLoaders.from_name_func(path, get_image_files(path), valid_pct=0.2, label_func=is_airplane, item_tfms=Resize(224))"
   ],
   "id": "7b066d1d13b06237",
   "outputs": [],
   "execution_count": null
  },
  {
   "metadata": {},
   "cell_type": "code",
   "source": "dataloader.show_batch(max_n=10)",
   "id": "2cbab546a535efd3",
   "outputs": [],
   "execution_count": null
  },
  {
   "metadata": {
    "ExecuteTime": {
     "end_time": "2025-08-11T21:05:42.085237Z",
     "start_time": "2025-08-11T20:44:02.903647Z"
    }
   },
   "cell_type": "code",
   "source": [
    "learn = vision_learner(dataloader, resnet34, metrics=error_rate)\n",
    "learn.fine_tune(1)"
   ],
   "id": "cfc32d4847730cfe",
   "outputs": [
    {
     "name": "stderr",
     "output_type": "stream",
     "text": [
      "Downloading: \"https://download.pytorch.org/models/resnet34-b627a593.pth\" to /home/bbo/.cache/torch/hub/checkpoints/resnet34-b627a593.pth\n"
     ]
    },
    {
     "data": {
      "text/plain": [
       "  0%|          | 0.00/83.3M [00:00<?, ?B/s]"
      ],
      "application/vnd.jupyter.widget-view+json": {
       "version_major": 2,
       "version_minor": 0,
       "model_id": "6c1987bec84c408286509e75733cf53c"
      }
     },
     "metadata": {},
     "output_type": "display_data"
    },
    {
     "data": {
      "text/plain": [
       "<IPython.core.display.HTML object>"
      ],
      "text/html": [
       "\n",
       "<style>\n",
       "    /* Turns off some styling */\n",
       "    progress {\n",
       "        /* gets rid of default border in Firefox and Opera. */\n",
       "        border: none;\n",
       "        /* Needs to be in here for Safari polyfill so background images work as expected. */\n",
       "        background-size: auto;\n",
       "    }\n",
       "    progress:not([value]), progress:not([value])::-webkit-progress-bar {\n",
       "        background: repeating-linear-gradient(45deg, #7e7e7e, #7e7e7e 10px, #5c5c5c 10px, #5c5c5c 20px);\n",
       "    }\n",
       "    .progress-bar-interrupted, .progress-bar-interrupted::-webkit-progress-bar {\n",
       "        background: #F44336;\n",
       "    }\n",
       "</style>\n"
      ]
     },
     "metadata": {},
     "output_type": "display_data"
    },
    {
     "data": {
      "text/plain": [
       "<IPython.core.display.HTML object>"
      ],
      "text/html": [
       "<table border=\"1\" class=\"dataframe\">\n",
       "  <thead>\n",
       "    <tr style=\"text-align: left;\">\n",
       "      <th>epoch</th>\n",
       "      <th>train_loss</th>\n",
       "      <th>valid_loss</th>\n",
       "      <th>error_rate</th>\n",
       "      <th>time</th>\n",
       "    </tr>\n",
       "  </thead>\n",
       "  <tbody>\n",
       "    <tr>\n",
       "      <td>0</td>\n",
       "      <td>0.325980</td>\n",
       "      <td>0.001190</td>\n",
       "      <td>0.000000</td>\n",
       "      <td>07:42</td>\n",
       "    </tr>\n",
       "  </tbody>\n",
       "</table>"
      ]
     },
     "metadata": {},
     "output_type": "display_data"
    },
    {
     "data": {
      "text/plain": [
       "<IPython.core.display.HTML object>"
      ],
      "text/html": [
       "\n",
       "<style>\n",
       "    /* Turns off some styling */\n",
       "    progress {\n",
       "        /* gets rid of default border in Firefox and Opera. */\n",
       "        border: none;\n",
       "        /* Needs to be in here for Safari polyfill so background images work as expected. */\n",
       "        background-size: auto;\n",
       "    }\n",
       "    progress:not([value]), progress:not([value])::-webkit-progress-bar {\n",
       "        background: repeating-linear-gradient(45deg, #7e7e7e, #7e7e7e 10px, #5c5c5c 10px, #5c5c5c 20px);\n",
       "    }\n",
       "    .progress-bar-interrupted, .progress-bar-interrupted::-webkit-progress-bar {\n",
       "        background: #F44336;\n",
       "    }\n",
       "</style>\n"
      ]
     },
     "metadata": {},
     "output_type": "display_data"
    },
    {
     "data": {
      "text/plain": [
       "<IPython.core.display.HTML object>"
      ],
      "text/html": [
       "<table border=\"1\" class=\"dataframe\">\n",
       "  <thead>\n",
       "    <tr style=\"text-align: left;\">\n",
       "      <th>epoch</th>\n",
       "      <th>train_loss</th>\n",
       "      <th>valid_loss</th>\n",
       "      <th>error_rate</th>\n",
       "      <th>time</th>\n",
       "    </tr>\n",
       "  </thead>\n",
       "  <tbody>\n",
       "    <tr>\n",
       "      <td>0</td>\n",
       "      <td>0.013317</td>\n",
       "      <td>0.000027</td>\n",
       "      <td>0.000000</td>\n",
       "      <td>11:19</td>\n",
       "    </tr>\n",
       "  </tbody>\n",
       "</table>"
      ]
     },
     "metadata": {},
     "output_type": "display_data"
    }
   ],
   "execution_count": 18
  },
  {
   "metadata": {
    "ExecuteTime": {
     "end_time": "2025-08-11T21:30:24.489390Z",
     "start_time": "2025-08-11T21:30:23.958280Z"
    }
   },
   "cell_type": "code",
   "source": [
    "image = 'image.jpg'\n",
    "airplane_or_not,_,probability = learn.predict(image)\n",
    "print(airplane_or_not)\n",
    "print(probability[1].item())"
   ],
   "id": "ae6e4da60c524acc",
   "outputs": [
    {
     "data": {
      "text/plain": [
       "<IPython.core.display.HTML object>"
      ],
      "text/html": [
       "\n",
       "<style>\n",
       "    /* Turns off some styling */\n",
       "    progress {\n",
       "        /* gets rid of default border in Firefox and Opera. */\n",
       "        border: none;\n",
       "        /* Needs to be in here for Safari polyfill so background images work as expected. */\n",
       "        background-size: auto;\n",
       "    }\n",
       "    progress:not([value]), progress:not([value])::-webkit-progress-bar {\n",
       "        background: repeating-linear-gradient(45deg, #7e7e7e, #7e7e7e 10px, #5c5c5c 10px, #5c5c5c 20px);\n",
       "    }\n",
       "    .progress-bar-interrupted, .progress-bar-interrupted::-webkit-progress-bar {\n",
       "        background: #F44336;\n",
       "    }\n",
       "</style>\n"
      ]
     },
     "metadata": {},
     "output_type": "display_data"
    },
    {
     "data": {
      "text/plain": [
       "<IPython.core.display.HTML object>"
      ],
      "text/html": []
     },
     "metadata": {},
     "output_type": "display_data"
    },
    {
     "name": "stdout",
     "output_type": "stream",
     "text": [
      "False\n",
      "0.32850250601768494\n"
     ]
    }
   ],
   "execution_count": 24
  },
  {
   "metadata": {},
   "cell_type": "code",
   "source": [
    "# getting the links to the items I will download\n",
    "search = DDGS()\n",
    "searchResults = search.images(keywords='motocycle images', size='small', max_results=70)\n",
    "\n",
    "ImageUrls = (L(searchResults)).itemgot('image')"
   ],
   "id": "e3813d7d57afa3d7",
   "outputs": [],
   "execution_count": null
  },
  {
   "metadata": {},
   "cell_type": "code",
   "source": [
    "# downloading the pictures I have gotten their links\n",
    "\n",
    "def checkurl(given_url: str) -> bool: # checking their validity\n",
    "    given_url = requests.head(url)\n",
    "    return True if given_url.status_code == 200 else False\n",
    "\n",
    "dest = 'pictures/motocycle'\n",
    "for url in ImageUrls:\n",
    "    if checkurl(url):\n",
    "        download_url(url, dest)\n",
    "    print(f\"The URL {url} is invalid.\")"
   ],
   "id": "d0cf510794749455",
   "outputs": [],
   "execution_count": null
  },
  {
   "metadata": {},
   "cell_type": "code",
   "source": [
    "# loading cifar batch\n",
    "with open(\"data_batch_1\", \"rb\") as data_file:\n",
    "    data = pickle.load(data_file, encoding=\"latin1\")\n",
    "\n",
    "# Extracting data and labels\n",
    "images = data.get('data')\n",
    "print(len(images))\n",
    "\n",
    "an_image = images[0]\n",
    "an_image = an_image.reshape(3, 32, 32)\n",
    "an_image = an_image.transpose(1, 2, 0)\n",
    "\n",
    "dest = 'image.jpg'\n",
    "\n",
    "Image.fromarray(an_image).save(dest)\n",
    "\n",
    "image = dest\n",
    "im = Image.open(image)\n",
    "im.to_thumb(256, 256)"
   ],
   "id": "63a4467cca611996",
   "outputs": [],
   "execution_count": null
  },
  {
   "metadata": {},
   "cell_type": "code",
   "source": [
    "print(data.keys())\n",
    "image = data[\"filenames\"][0]\n",
    "im = Image.open(image)"
   ],
   "id": "1fe9f0ec8471634a",
   "outputs": [],
   "execution_count": null
  },
  {
   "metadata": {},
   "cell_type": "code",
   "source": "im = Image.open(image)",
   "id": "9d15891f6937800c",
   "outputs": [],
   "execution_count": null
  },
  {
   "metadata": {},
   "cell_type": "code",
   "source": "",
   "id": "b81d6cca6cfdafbe",
   "outputs": [],
   "execution_count": null
  },
  {
   "metadata": {},
   "cell_type": "code",
   "source": "",
   "id": "96dfe79feb11f83",
   "outputs": [],
   "execution_count": null
  }
 ],
 "metadata": {
  "kernelspec": {
   "display_name": "Python 3",
   "language": "python",
   "name": "python3"
  },
  "language_info": {
   "codemirror_mode": {
    "name": "ipython",
    "version": 2
   },
   "file_extension": ".py",
   "mimetype": "text/x-python",
   "name": "python",
   "nbconvert_exporter": "python",
   "pygments_lexer": "ipython2",
   "version": "2.7.6"
  }
 },
 "nbformat": 4,
 "nbformat_minor": 5
}

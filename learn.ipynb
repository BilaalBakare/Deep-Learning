{
 "cells": [
  {
   "cell_type": "code",
   "execution_count": 1,
   "id": "4a876ae9-341a-4f5c-9eca-27db5f4cebeb",
   "metadata": {},
   "outputs": [],
   "source": [
    "from duckduckgo_search import DDGS\n"
   ]
  },
  {
   "cell_type": "code",
   "execution_count": null,
   "id": "519311ee-b1c6-4efe-ab3a-36c85a1b9622",
   "metadata": {},
   "outputs": [],
   "source": []
  }
 ],
 "metadata": {
  "kernelspec": {
   "display_name": "Python 3 (ipykernel)",
   "language": "python",
   "name": "python3"
  },
  "language_info": {
   "codemirror_mode": {
    "name": "ipython",
    "version": 3
   },
   "file_extension": ".py",
   "mimetype": "text/x-python",
   "name": "python",
   "nbconvert_exporter": "python",
   "pygments_lexer": "ipython3",
   "version": "3.10.18"
  }
 },
 "nbformat": 4,
 "nbformat_minor": 5
}

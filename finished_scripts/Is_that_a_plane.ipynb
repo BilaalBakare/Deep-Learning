{
 "cells": [
  {
   "metadata": {},
   "cell_type": "markdown",
   "source": "### Is that an airplane",
   "id": "f2b6eec32afa5ed5"
  },
  {
   "metadata": {},
   "cell_type": "markdown",
   "source": [
    "AlhamduliLLah\n",
    "This is my first Deep learning project, just a small project to recognize an airplane"
   ],
   "id": "ee78a1d0496b860d"
  },
  {
   "metadata": {},
   "cell_type": "code",
   "source": [
    "# library imports\n",
    "from duckduckgo_search import DDGS\n",
    "from fastai.vision.data import ImageDataLoaders\n",
    "from fastcore.all import *\n",
    "from fastdownload import download_url\n",
    "from fastai.vision.all import * # I use image.open to view downloaded images"
   ],
   "id": "d6b7fa35d985b9b1",
   "outputs": [],
   "execution_count": null
  },
  {
   "metadata": {},
   "cell_type": "code",
   "source": [
    "# DATA\n",
    "\n",
    "# the caltech 101 dataset, copied the motorcycle and airplane classes into the data folder\n",
    "path = 'data'\n",
    "\n",
    "# function to label all the pictures, True (it is an airplane)\n",
    "def is_airplane(given_data: str):\n",
    "    return True if given_data[:3] == 'Air' else False\n",
    "\n",
    "\n",
    "dataloader = ImageDataLoaders.from_name_func(path, get_image_files(path), valid_pct=0.2, label_func=is_airplane, item_tfms=Resize(224))\n",
    "dataloader.show_batch(max_n=10) # this to see a batch of pictures and see if the labels are correct"
   ],
   "id": "7b066d1d13b06237",
   "outputs": [],
   "execution_count": null
  },
  {
   "metadata": {},
   "cell_type": "code",
   "source": [
    "# TRAINING\n",
    "\n",
    "learn = vision_learner(dataloader, resnet34, metrics=error_rate)\n",
    "learn.fine_tune(1)"
   ],
   "id": "cfc32d4847730cfe",
   "outputs": [],
   "execution_count": null
  },
  {
   "metadata": {},
   "cell_type": "code",
   "source": [
    "# TESTING\n",
    "\n",
    "# getting a picture link to test the model\n",
    "search = DDGS()\n",
    "searchResults = search.images(keywords='Airplane Image', size='small', max_results=1)\n",
    "Image_urls = (L(searchResults)).itemgot('image')\n",
    "\n",
    "# downloading the picture\n",
    "def check_url(given_url: str) -> bool: # checking their validity\n",
    "    given_url = requests.head(url)\n",
    "    return True if given_url.status_code == 200 else False\n",
    "\n",
    "image_destination = 'An_Airplane_Image.jpg'\n",
    "url = Image_urls[0]\n",
    "download_url(url, image_destination) if check_url(url) else print(f\"The URL {url} is invalid.\")\n",
    "\n",
    "# testing the model on the picture\n",
    "im = Image.open(image_destination)\n",
    "im.to_thumb(256, 256)\n",
    "airplane_or_not,_,probability = learn.predict(image_destination)\n",
    "print(f\"The verdict of the model is \\\"{airplane_or_not}\\\", The model is {probability[1].item() * 100:.2f}% sure\")"
   ],
   "id": "e3813d7d57afa3d7",
   "outputs": [],
   "execution_count": null
  }
 ],
 "metadata": {
  "kernelspec": {
   "display_name": "Python 3",
   "language": "python",
   "name": "python3"
  },
  "language_info": {
   "codemirror_mode": {
    "name": "ipython",
    "version": 2
   },
   "file_extension": ".py",
   "mimetype": "text/x-python",
   "name": "python",
   "nbconvert_exporter": "python",
   "pygments_lexer": "ipython2",
   "version": "2.7.6"
  }
 },
 "nbformat": 4,
 "nbformat_minor": 5
}

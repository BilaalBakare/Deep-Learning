{
 "cells": [
  {
   "cell_type": "code",
   "execution_count": null,
   "id": "a657f83c-49eb-4dfa-9586-f1cfc06ec76f",
   "metadata": {},
   "outputs": [],
   "source": []
  }
 ],
 "metadata": {
  "kernelspec": {
   "display_name": "",
   "name": ""
  },
  "language_info": {
   "name": ""
  }
 },
 "nbformat": 4,
 "nbformat_minor": 5
}
